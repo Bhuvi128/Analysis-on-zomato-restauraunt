{
 "cells": [
  {
   "cell_type": "markdown",
   "metadata": {},
   "source": [
    "\n",
    "## Problem Statement:\n",
    "\n",
    "Restaurants from all over the world can be found here in Bengaluru. From the United States to Japan, Russia to Antarctica, you get all types of cuisines here. Delivery, Dine-out, Pubs, Bars, Drinks, Buffet, Desserts you name it and Bengaluru has it. Bengaluru is the best place for foodies. The number of restaurants is increasing day by day. Currently, it stands at approximately 12,000 restaurants. With such a high number of restaurants. This industry hasn't been saturated yet. And new restaurants are opening every day. However, it has become difficult for them to compete with already established restaurants. The key issues that continue to pose a challenge to them include high real estate costs, rising food costs, shortage of quality manpower, fragmented supply chain, and over-licensing. This Zomato data aims at analyzing the demography of the location. Most importantly it will help new restaurants in deciding their theme, menus, cuisine, cost, etc for a particular location. It also aims at finding similarities between neighborhoods of Bengaluru on the basis of food. The dataset also contains reviews for each of the restaurants which will help in finding the overall rating for the place.\n",
    "\n",
    "\n",
    "## Aim:\n",
    "\n",
    "The basic idea of analyzing the Zomato dataset is to get a fair idea about the factors affecting the establishment of different types of restaurants at different places in Bengaluru, the aggregate rating of each restaurant, Bengaluru being one such city has more than 12,000 restaurants with restaurants serving dishes from all over the world. With each day new restaurants open the industry hasn't been saturated yet and the demand is increasing day by day. In spite of increasing demand, it however has become difficult for new restaurants to compete with established restaurants. Most of them serve the same food. Bengaluru is the IT capital of India. Most of the people here are dependent mainly on the restaurant food as they don’t have time to cook for themselves.\n",
    "\n",
    "\n",
    "\n",
    "Use all the techniques which you are aware of and explore more, Try to find various factors that are hidden in the data.\n"
   ]
  },
  {
   "cell_type": "markdown",
   "metadata": {},
   "source": [
    "### DATA DICTIONARY:\n",
    "\n",
    "\n",
    "• **Restaurant Id:** Unique id of every restaurant across various cities of the world\n",
    "\n",
    "• **Restaurant Name:** Name of the restaurant\n",
    "\n",
    "• **Country Code:** Country in which restaurant is located\n",
    "\n",
    "• **City:** City in which the restaurant is located\n",
    "\n",
    "• **Address:** Address of the restaurant\n",
    "\n",
    "• **Locality:** Location in the city\n",
    "\n",
    "• **Locality Verbose:** Detailed description of the locality\n",
    "\n",
    "• **Longitude:** Longitude coordinate of the restaurant's location\n",
    "\n",
    "• **Latitude:** Latitude coordinate of the restaurant's location\n",
    "\n",
    "• **Cuisines:** Cuisines offered by the restaurant\n",
    "\n",
    "• **Average Cost for two:** Cost for two people in different currencies \n",
    "\n",
    "• **Currency:** Currency of the country\n",
    "\n",
    "• **Has Table booking:** yes/no\n",
    "\n",
    "• **Has Online delivery:** yes/ no\n",
    "\n",
    "• **Is delivering:** yes/ no\n",
    "\n",
    "• **Switch to order menu:** yes/no\n",
    "\n",
    "• **Price range:** range of price of food\n",
    "\n",
    "• **Aggregate Rating:** Average rating out of 5\n",
    "\n",
    "• **Rating color:** depending upon the average rating color\n",
    "\n",
    "• **Rating text:** text on the basis of rating of rating\n",
    "\n",
    "• **Votes:** Number of ratings cast by people\n"
   ]
  },
  {
   "cell_type": "markdown",
   "metadata": {},
   "source": [
    "### 1.Import libraries that you required and Load the data set."
   ]
  },
  {
   "cell_type": "code",
   "execution_count": 101,
   "metadata": {
    "colab": {
     "base_uri": "https://localhost:8080/",
     "height": 17
    },
    "id": "hBQoXIHPcBuE",
    "outputId": "ddce9f8c-60c1-4221-9abe-47a7a8527cd2"
   },
   "outputs": [],
   "source": [
    "import pandas as pd\n",
    "import numpy as np\n",
    "import matplotlib.pyplot as plt\n",
    "import seaborn as sns\n",
    "\n",
    "sns.set(style = 'whitegrid')\n",
    "%matplotlib inline"
   ]
  },
  {
   "cell_type": "code",
   "execution_count": 102,
   "metadata": {
    "id": "FZLCDltiSA2F"
   },
   "outputs": [],
   "source": [
    "file_path = r\"C:\\Users\\PC\\Downloads\\Course Project - Zomato Case Study\\Course Project - Zomato Case Study\\Zomato.CSV\" \n",
    "df = pd.read_csv(file_path)"
   ]
  },
  {
   "cell_type": "markdown",
   "metadata": {},
   "source": [
    "### 2. Check the number of rows and columns in the dataset"
   ]
  },
  {
   "cell_type": "code",
   "execution_count": 103,
   "metadata": {},
   "outputs": [
    {
     "data": {
      "text/plain": [
       "(10000, 18)"
      ]
     },
     "execution_count": 103,
     "metadata": {},
     "output_type": "execute_result"
    }
   ],
   "source": [
    "df.shape"
   ]
  },
  {
   "cell_type": "markdown",
   "metadata": {},
   "source": [
    "### 3. Check the info of the given dataset"
   ]
  },
  {
   "cell_type": "code",
   "execution_count": 104,
   "metadata": {},
   "outputs": [
    {
     "name": "stdout",
     "output_type": "stream",
     "text": [
      "<class 'pandas.core.frame.DataFrame'>\n",
      "RangeIndex: 10000 entries, 0 to 9999\n",
      "Data columns (total 18 columns):\n",
      " #   Column                       Non-Null Count  Dtype \n",
      "---  ------                       --------------  ----- \n",
      " 0   Unnamed: 0                   10000 non-null  int64 \n",
      " 1   url                          10000 non-null  object\n",
      " 2   address                      10000 non-null  object\n",
      " 3   name                         10000 non-null  object\n",
      " 4   online_order                 10000 non-null  object\n",
      " 5   book_table                   10000 non-null  object\n",
      " 6   rate                         8528 non-null   object\n",
      " 7   votes                        10000 non-null  int64 \n",
      " 8   phone                        9764 non-null   object\n",
      " 9   location                     9997 non-null   object\n",
      " 10  rest_type                    9953 non-null   object\n",
      " 11  dish_liked                   4642 non-null   object\n",
      " 12  cuisines                     9995 non-null   object\n",
      " 13  approx_cost(for two people)  9941 non-null   object\n",
      " 14  reviews_list                 10000 non-null  object\n",
      " 15  menu_item                    10000 non-null  object\n",
      " 16  listed_in(type)              10000 non-null  object\n",
      " 17  listed_in(city)              10000 non-null  object\n",
      "dtypes: int64(2), object(16)\n",
      "memory usage: 1.4+ MB\n"
     ]
    }
   ],
   "source": [
    "df.info()"
   ]
  },
  {
   "cell_type": "markdown",
   "metadata": {
    "id": "zf0Yzl8g7h22"
   },
   "source": [
    "### 4.Which are the top 10 restaurant chains in Bangaluru?"
   ]
  },
  {
   "cell_type": "code",
   "execution_count": 105,
   "metadata": {
    "colab": {
     "base_uri": "https://localhost:8080/",
     "height": 479
    },
    "id": "DCr9aR-m4sQG",
    "outputId": "f3b9f68f-6340-4655-e331-009a116ba5ad"
   },
   "outputs": [
    {
     "name": "stdout",
     "output_type": "stream",
     "text": [
      "Top_10_restaurant_chains\n",
      "name\n",
      "Cafe Coffee Day              18\n",
      "Keventers                    17\n",
      "Onesta                       17\n",
      "McDonald's                   16\n",
      "SGS Non Veg - Gundu Pulav    16\n",
      "The Chocolate Heaven         16\n",
      "Baskin Robbins               16\n",
      "Mad Over Donuts              15\n",
      "Tata Cha                     15\n",
      "Petoo                        15\n",
      "Name: count, dtype: int64\n"
     ]
    }
   ],
   "source": [
    "Top_10_restaurant_chains = df['name'].value_counts().head(10)\n",
    "print('Top_10_restaurant_chains')\n",
    "print(Top_10_restaurant_chains)"
   ]
  },
  {
   "cell_type": "markdown",
   "metadata": {
    "id": "A2g3dj_Q9Ls_"
   },
   "source": [
    "### 5.How many of the restuarants do not accept online orders?\n"
   ]
  },
  {
   "cell_type": "code",
   "execution_count": 106,
   "metadata": {
    "id": "GU4w5r1X7vKr"
   },
   "outputs": [
    {
     "name": "stdout",
     "output_type": "stream",
     "text": [
      "Number of restaurants not accepting online orders: 4057\n"
     ]
    }
   ],
   "source": [
    "count_no_online_orders = df[df['online_order'] == 'No'].shape[0]\n",
    "print(f\"Number of restaurants not accepting online orders: {count_no_online_orders}\")"
   ]
  },
  {
   "cell_type": "markdown",
   "metadata": {
    "id": "sOwbyVN_FSGP"
   },
   "source": [
    "### 6. Online and Offline orders restaurants percentage?"
   ]
  },
  {
   "cell_type": "code",
   "execution_count": 107,
   "metadata": {
    "id": "iItEtor-Fh2F"
   },
   "outputs": [
    {
     "name": "stdout",
     "output_type": "stream",
     "text": [
      "Percentage of restaurants accepting online orders: 59.43%\n",
      "Percentage of restaurants not accepting online orders: 40.57%\n"
     ]
    }
   ],
   "source": [
    "total_restaurants = df.shape[0]\n",
    "online_orders = df[df['online_order'] == 'Yes'].shape[0]\n",
    "offline_orders = df[df['online_order'] == 'No'].shape[0]\n",
    "\n",
    "online_percentage = (online_orders / total_restaurants) * 100\n",
    "offline_percentage = (offline_orders / total_restaurants) * 100\n",
    "\n",
    "print(f\"Percentage of restaurants accepting online orders: {online_percentage:.2f}%\")\n",
    "print(f\"Percentage of restaurants not accepting online orders: {offline_percentage:.2f}%\")"
   ]
  },
  {
   "cell_type": "code",
   "execution_count": null,
   "metadata": {
    "colab": {
     "base_uri": "https://localhost:8080/"
    },
    "id": "rcXuqAc-Ec_c",
    "outputId": "645cf698-55d8-4541-d458-6f850e11fcb9"
   },
   "outputs": [],
   "source": []
  },
  {
   "cell_type": "markdown",
   "metadata": {
    "id": "Ru8ptuekH0dS"
   },
   "source": [
    "### 7. What is the ratio b/w restaurants that provide and do not provide table booking."
   ]
  },
  {
   "cell_type": "code",
   "execution_count": 108,
   "metadata": {
    "colab": {
     "base_uri": "https://localhost:8080/",
     "height": 265
    },
    "id": "bk7nfled0LEZ",
    "outputId": "40310e02-5017-460d-efd2-4cdf912ad8a3"
   },
   "outputs": [
    {
     "name": "stdout",
     "output_type": "stream",
     "text": [
      "Ratio of restaurants providing table booking to those not providing: 0.14\n"
     ]
    }
   ],
   "source": [
    "total_restaurants = df.shape[0]\n",
    "provides_table_booking = df[df['book_table'] == 'Yes'].shape[0]\n",
    "does_not_provide_table_booking = df[df['book_table'] == 'No'].shape[0]\n",
    "\n",
    "\n",
    "if does_not_provide_table_booking != 0:\n",
    "    ratio = provides_table_booking / does_not_provide_table_booking\n",
    "    print(f\"Ratio of restaurants providing table booking to those not providing: {ratio:.2f}\")\n",
    "else:\n",
    "    print(\"No restaurants do not provide table booking, ratio calculation not possible.\")"
   ]
  },
  {
   "cell_type": "markdown",
   "metadata": {
    "id": "bKnAF9vS12Pz"
   },
   "source": [
    "### 8. Check for missing values in rating column. Drop the missing value from the column and convert the column to numeric type. e.g \"3.5/5\" convert it to 3.5."
   ]
  },
  {
   "cell_type": "code",
   "execution_count": 109,
   "metadata": {
    "colab": {
     "base_uri": "https://localhost:8080/",
     "height": 426
    },
    "id": "gwLQT7Y510X7",
    "outputId": "b49f1a35-5dc6-4f27-b708-7a2813e071ef"
   },
   "outputs": [
    {
     "data": {
      "text/plain": [
       "1472"
      ]
     },
     "execution_count": 109,
     "metadata": {},
     "output_type": "execute_result"
    }
   ],
   "source": [
    "df['rate'].isnull().sum()"
   ]
  },
  {
   "cell_type": "code",
   "execution_count": 110,
   "metadata": {},
   "outputs": [],
   "source": [
    "df = df.dropna(subset=['rate'])"
   ]
  },
  {
   "cell_type": "code",
   "execution_count": 113,
   "metadata": {},
   "outputs": [],
   "source": [
    "def convert_rating(rate):\n",
    "    try:\n",
    "        # Split the rating and take the first part (before '/')\n",
    "        return float(rate.split('/')[0])\n",
    "    except:\n",
    "        return None\n",
    "\n",
    "# Apply the conversion function to the rating column\n",
    "df.loc[:, 'rate'] = df['rate'].apply(convert_rating)\n",
    "\n",
    "# Optionally, drop any rows where the conversion resulted in None\n",
    "df = df.dropna(subset=['rate'])"
   ]
  },
  {
   "cell_type": "code",
   "execution_count": 114,
   "metadata": {},
   "outputs": [
    {
     "data": {
      "text/html": [
       "<div>\n",
       "<style scoped>\n",
       "    .dataframe tbody tr th:only-of-type {\n",
       "        vertical-align: middle;\n",
       "    }\n",
       "\n",
       "    .dataframe tbody tr th {\n",
       "        vertical-align: top;\n",
       "    }\n",
       "\n",
       "    .dataframe thead th {\n",
       "        text-align: right;\n",
       "    }\n",
       "</style>\n",
       "<table border=\"1\" class=\"dataframe\">\n",
       "  <thead>\n",
       "    <tr style=\"text-align: right;\">\n",
       "      <th></th>\n",
       "      <th>Unnamed: 0</th>\n",
       "      <th>url</th>\n",
       "      <th>address</th>\n",
       "      <th>name</th>\n",
       "      <th>online_order</th>\n",
       "      <th>book_table</th>\n",
       "      <th>rate</th>\n",
       "      <th>votes</th>\n",
       "      <th>phone</th>\n",
       "      <th>location</th>\n",
       "      <th>rest_type</th>\n",
       "      <th>dish_liked</th>\n",
       "      <th>cuisines</th>\n",
       "      <th>approx_cost(for two people)</th>\n",
       "      <th>reviews_list</th>\n",
       "      <th>menu_item</th>\n",
       "      <th>listed_in(type)</th>\n",
       "      <th>listed_in(city)</th>\n",
       "      <th>rating</th>\n",
       "    </tr>\n",
       "  </thead>\n",
       "  <tbody>\n",
       "    <tr>\n",
       "      <th>0</th>\n",
       "      <td>14221</td>\n",
       "      <td>https://www.zomato.com/bangalore/shree-ranga-v...</td>\n",
       "      <td>366, Hosur Main Road, Attibele, Anekal Taluk, ...</td>\n",
       "      <td>Shree Ranga Vilas</td>\n",
       "      <td>No</td>\n",
       "      <td>No</td>\n",
       "      <td>3.2</td>\n",
       "      <td>7</td>\n",
       "      <td>080 29765044</td>\n",
       "      <td>Electronic City</td>\n",
       "      <td>Casual Dining</td>\n",
       "      <td>NaN</td>\n",
       "      <td>North Indian, South Indian, Chinese, Juices</td>\n",
       "      <td>500</td>\n",
       "      <td>[('Rated 3.0', 'RATED\\n  Typical South Indian ...</td>\n",
       "      <td>[]</td>\n",
       "      <td>Dine-out</td>\n",
       "      <td>Electronic City</td>\n",
       "      <td>3.2</td>\n",
       "    </tr>\n",
       "    <tr>\n",
       "      <th>1</th>\n",
       "      <td>43422</td>\n",
       "      <td>https://www.zomato.com/bangalore/sphyre-gatewa...</td>\n",
       "      <td>Gateway Hotel, 66, Residency Road, Bangalore</td>\n",
       "      <td>Sphyre - Gateway Hotel</td>\n",
       "      <td>No</td>\n",
       "      <td>No</td>\n",
       "      <td>3.6</td>\n",
       "      <td>45</td>\n",
       "      <td>+91 9886643495\\n+91 9898780004</td>\n",
       "      <td>Residency Road</td>\n",
       "      <td>Lounge</td>\n",
       "      <td>NaN</td>\n",
       "      <td>Finger Food</td>\n",
       "      <td>1,700</td>\n",
       "      <td>[('Rated 1.0', 'RATED\\n  Expected a good night...</td>\n",
       "      <td>[]</td>\n",
       "      <td>Dine-out</td>\n",
       "      <td>MG Road</td>\n",
       "      <td>3.6</td>\n",
       "    </tr>\n",
       "    <tr>\n",
       "      <th>2</th>\n",
       "      <td>16032</td>\n",
       "      <td>https://www.zomato.com/bangalore/popular-baker...</td>\n",
       "      <td>19, BDA Complex, HSR, Bangalore</td>\n",
       "      <td>Popular Bakery</td>\n",
       "      <td>No</td>\n",
       "      <td>No</td>\n",
       "      <td>3.7</td>\n",
       "      <td>36</td>\n",
       "      <td>+91 8105834605\\r\\n080 25722488</td>\n",
       "      <td>HSR</td>\n",
       "      <td>Dessert Parlor, Bakery</td>\n",
       "      <td>NaN</td>\n",
       "      <td>Desserts, Bakery</td>\n",
       "      <td>600</td>\n",
       "      <td>[('Rated 5.0', \"RATED\\n  This outlet is in HSR...</td>\n",
       "      <td>[]</td>\n",
       "      <td>Delivery</td>\n",
       "      <td>HSR</td>\n",
       "      <td>3.7</td>\n",
       "    </tr>\n",
       "    <tr>\n",
       "      <th>3</th>\n",
       "      <td>51635</td>\n",
       "      <td>https://www.zomato.com/bangalore/thai-chinese-...</td>\n",
       "      <td>7, Anurhh Arcade, Hoodi Road, Kodigehalli Road...</td>\n",
       "      <td>Thai &amp; Chinese Fast Food</td>\n",
       "      <td>No</td>\n",
       "      <td>No</td>\n",
       "      <td>3.4</td>\n",
       "      <td>7</td>\n",
       "      <td>+91 9206260085\\n+91 7619416923</td>\n",
       "      <td>KR Puram</td>\n",
       "      <td>Quick Bites</td>\n",
       "      <td>NaN</td>\n",
       "      <td>Chinese, Thai</td>\n",
       "      <td>400</td>\n",
       "      <td>[('Rated 5.0', 'RATED\\n  Its Looking delicious...</td>\n",
       "      <td>[]</td>\n",
       "      <td>Dine-out</td>\n",
       "      <td>Whitefield</td>\n",
       "      <td>3.4</td>\n",
       "    </tr>\n",
       "    <tr>\n",
       "      <th>5</th>\n",
       "      <td>15103</td>\n",
       "      <td>https://www.zomato.com/bangalore/patisserie-ni...</td>\n",
       "      <td>12, 2nd Cross, Hutchins Road, Off Davis Road, ...</td>\n",
       "      <td>Patisserie Nitash</td>\n",
       "      <td>No</td>\n",
       "      <td>No</td>\n",
       "      <td>4.2</td>\n",
       "      <td>142</td>\n",
       "      <td>+91 9845427364</td>\n",
       "      <td>Frazer Town</td>\n",
       "      <td>Bakery</td>\n",
       "      <td>Patisserie Nitash, Brownie, Chocolate Cake, Ch...</td>\n",
       "      <td>Bakery</td>\n",
       "      <td>500</td>\n",
       "      <td>[('Rated 5.0', \"RATED\\n  What if I told you th...</td>\n",
       "      <td>[]</td>\n",
       "      <td>Delivery</td>\n",
       "      <td>Frazer Town</td>\n",
       "      <td>4.2</td>\n",
       "    </tr>\n",
       "  </tbody>\n",
       "</table>\n",
       "</div>"
      ],
      "text/plain": [
       "   Unnamed: 0                                                url  \\\n",
       "0       14221  https://www.zomato.com/bangalore/shree-ranga-v...   \n",
       "1       43422  https://www.zomato.com/bangalore/sphyre-gatewa...   \n",
       "2       16032  https://www.zomato.com/bangalore/popular-baker...   \n",
       "3       51635  https://www.zomato.com/bangalore/thai-chinese-...   \n",
       "5       15103  https://www.zomato.com/bangalore/patisserie-ni...   \n",
       "\n",
       "                                             address  \\\n",
       "0  366, Hosur Main Road, Attibele, Anekal Taluk, ...   \n",
       "1       Gateway Hotel, 66, Residency Road, Bangalore   \n",
       "2                    19, BDA Complex, HSR, Bangalore   \n",
       "3  7, Anurhh Arcade, Hoodi Road, Kodigehalli Road...   \n",
       "5  12, 2nd Cross, Hutchins Road, Off Davis Road, ...   \n",
       "\n",
       "                       name online_order book_table rate  votes  \\\n",
       "0         Shree Ranga Vilas           No         No  3.2      7   \n",
       "1    Sphyre - Gateway Hotel           No         No  3.6     45   \n",
       "2            Popular Bakery           No         No  3.7     36   \n",
       "3  Thai & Chinese Fast Food           No         No  3.4      7   \n",
       "5         Patisserie Nitash           No         No  4.2    142   \n",
       "\n",
       "                            phone         location               rest_type  \\\n",
       "0                    080 29765044  Electronic City           Casual Dining   \n",
       "1  +91 9886643495\\n+91 9898780004   Residency Road                  Lounge   \n",
       "2  +91 8105834605\\r\\n080 25722488              HSR  Dessert Parlor, Bakery   \n",
       "3  +91 9206260085\\n+91 7619416923         KR Puram             Quick Bites   \n",
       "5                  +91 9845427364      Frazer Town                  Bakery   \n",
       "\n",
       "                                          dish_liked  \\\n",
       "0                                                NaN   \n",
       "1                                                NaN   \n",
       "2                                                NaN   \n",
       "3                                                NaN   \n",
       "5  Patisserie Nitash, Brownie, Chocolate Cake, Ch...   \n",
       "\n",
       "                                      cuisines approx_cost(for two people)  \\\n",
       "0  North Indian, South Indian, Chinese, Juices                         500   \n",
       "1                                  Finger Food                       1,700   \n",
       "2                             Desserts, Bakery                         600   \n",
       "3                                Chinese, Thai                         400   \n",
       "5                                       Bakery                         500   \n",
       "\n",
       "                                        reviews_list menu_item  \\\n",
       "0  [('Rated 3.0', 'RATED\\n  Typical South Indian ...        []   \n",
       "1  [('Rated 1.0', 'RATED\\n  Expected a good night...        []   \n",
       "2  [('Rated 5.0', \"RATED\\n  This outlet is in HSR...        []   \n",
       "3  [('Rated 5.0', 'RATED\\n  Its Looking delicious...        []   \n",
       "5  [('Rated 5.0', \"RATED\\n  What if I told you th...        []   \n",
       "\n",
       "  listed_in(type)  listed_in(city)  rating  \n",
       "0        Dine-out  Electronic City     3.2  \n",
       "1        Dine-out          MG Road     3.6  \n",
       "2        Delivery              HSR     3.7  \n",
       "3        Dine-out       Whitefield     3.4  \n",
       "5        Delivery      Frazer Town     4.2  "
      ]
     },
     "execution_count": 114,
     "metadata": {},
     "output_type": "execute_result"
    }
   ],
   "source": [
    "df.head()"
   ]
  },
  {
   "cell_type": "markdown",
   "metadata": {},
   "source": [
    "### 9. Convert the approx_cost(for two people) in numeric type after removing the \",\""
   ]
  },
  {
   "cell_type": "code",
   "execution_count": 115,
   "metadata": {
    "id": "K5JPkpDN0QNo"
   },
   "outputs": [],
   "source": [
    "def clean_cost(cost):\n",
    "    try:\n",
    "        # Remove commas and convert to float\n",
    "        return float(cost.replace(',', ''))\n",
    "    except:\n",
    "        return None\n",
    "\n",
    "# Apply the cleaning function to the 'approx_cost(for two people)' column\n",
    "df.loc[:,'approx_cost(for two people)'] = df['approx_cost(for two people)'].apply(clean_cost)\n",
    "\n",
    "# Optionally, drop any rows where the conversion resulted in None\n",
    "df = df.dropna(subset=['approx_cost(for two people)'])"
   ]
  },
  {
   "cell_type": "code",
   "execution_count": 116,
   "metadata": {},
   "outputs": [
    {
     "data": {
      "text/html": [
       "<div>\n",
       "<style scoped>\n",
       "    .dataframe tbody tr th:only-of-type {\n",
       "        vertical-align: middle;\n",
       "    }\n",
       "\n",
       "    .dataframe tbody tr th {\n",
       "        vertical-align: top;\n",
       "    }\n",
       "\n",
       "    .dataframe thead th {\n",
       "        text-align: right;\n",
       "    }\n",
       "</style>\n",
       "<table border=\"1\" class=\"dataframe\">\n",
       "  <thead>\n",
       "    <tr style=\"text-align: right;\">\n",
       "      <th></th>\n",
       "      <th>Unnamed: 0</th>\n",
       "      <th>url</th>\n",
       "      <th>address</th>\n",
       "      <th>name</th>\n",
       "      <th>online_order</th>\n",
       "      <th>book_table</th>\n",
       "      <th>rate</th>\n",
       "      <th>votes</th>\n",
       "      <th>phone</th>\n",
       "      <th>location</th>\n",
       "      <th>rest_type</th>\n",
       "      <th>dish_liked</th>\n",
       "      <th>cuisines</th>\n",
       "      <th>approx_cost(for two people)</th>\n",
       "      <th>reviews_list</th>\n",
       "      <th>menu_item</th>\n",
       "      <th>listed_in(type)</th>\n",
       "      <th>listed_in(city)</th>\n",
       "      <th>rating</th>\n",
       "    </tr>\n",
       "  </thead>\n",
       "  <tbody>\n",
       "    <tr>\n",
       "      <th>0</th>\n",
       "      <td>14221</td>\n",
       "      <td>https://www.zomato.com/bangalore/shree-ranga-v...</td>\n",
       "      <td>366, Hosur Main Road, Attibele, Anekal Taluk, ...</td>\n",
       "      <td>Shree Ranga Vilas</td>\n",
       "      <td>No</td>\n",
       "      <td>No</td>\n",
       "      <td>3.2</td>\n",
       "      <td>7</td>\n",
       "      <td>080 29765044</td>\n",
       "      <td>Electronic City</td>\n",
       "      <td>Casual Dining</td>\n",
       "      <td>NaN</td>\n",
       "      <td>North Indian, South Indian, Chinese, Juices</td>\n",
       "      <td>500.0</td>\n",
       "      <td>[('Rated 3.0', 'RATED\\n  Typical South Indian ...</td>\n",
       "      <td>[]</td>\n",
       "      <td>Dine-out</td>\n",
       "      <td>Electronic City</td>\n",
       "      <td>3.2</td>\n",
       "    </tr>\n",
       "    <tr>\n",
       "      <th>1</th>\n",
       "      <td>43422</td>\n",
       "      <td>https://www.zomato.com/bangalore/sphyre-gatewa...</td>\n",
       "      <td>Gateway Hotel, 66, Residency Road, Bangalore</td>\n",
       "      <td>Sphyre - Gateway Hotel</td>\n",
       "      <td>No</td>\n",
       "      <td>No</td>\n",
       "      <td>3.6</td>\n",
       "      <td>45</td>\n",
       "      <td>+91 9886643495\\n+91 9898780004</td>\n",
       "      <td>Residency Road</td>\n",
       "      <td>Lounge</td>\n",
       "      <td>NaN</td>\n",
       "      <td>Finger Food</td>\n",
       "      <td>1700.0</td>\n",
       "      <td>[('Rated 1.0', 'RATED\\n  Expected a good night...</td>\n",
       "      <td>[]</td>\n",
       "      <td>Dine-out</td>\n",
       "      <td>MG Road</td>\n",
       "      <td>3.6</td>\n",
       "    </tr>\n",
       "    <tr>\n",
       "      <th>2</th>\n",
       "      <td>16032</td>\n",
       "      <td>https://www.zomato.com/bangalore/popular-baker...</td>\n",
       "      <td>19, BDA Complex, HSR, Bangalore</td>\n",
       "      <td>Popular Bakery</td>\n",
       "      <td>No</td>\n",
       "      <td>No</td>\n",
       "      <td>3.7</td>\n",
       "      <td>36</td>\n",
       "      <td>+91 8105834605\\r\\n080 25722488</td>\n",
       "      <td>HSR</td>\n",
       "      <td>Dessert Parlor, Bakery</td>\n",
       "      <td>NaN</td>\n",
       "      <td>Desserts, Bakery</td>\n",
       "      <td>600.0</td>\n",
       "      <td>[('Rated 5.0', \"RATED\\n  This outlet is in HSR...</td>\n",
       "      <td>[]</td>\n",
       "      <td>Delivery</td>\n",
       "      <td>HSR</td>\n",
       "      <td>3.7</td>\n",
       "    </tr>\n",
       "    <tr>\n",
       "      <th>3</th>\n",
       "      <td>51635</td>\n",
       "      <td>https://www.zomato.com/bangalore/thai-chinese-...</td>\n",
       "      <td>7, Anurhh Arcade, Hoodi Road, Kodigehalli Road...</td>\n",
       "      <td>Thai &amp; Chinese Fast Food</td>\n",
       "      <td>No</td>\n",
       "      <td>No</td>\n",
       "      <td>3.4</td>\n",
       "      <td>7</td>\n",
       "      <td>+91 9206260085\\n+91 7619416923</td>\n",
       "      <td>KR Puram</td>\n",
       "      <td>Quick Bites</td>\n",
       "      <td>NaN</td>\n",
       "      <td>Chinese, Thai</td>\n",
       "      <td>400.0</td>\n",
       "      <td>[('Rated 5.0', 'RATED\\n  Its Looking delicious...</td>\n",
       "      <td>[]</td>\n",
       "      <td>Dine-out</td>\n",
       "      <td>Whitefield</td>\n",
       "      <td>3.4</td>\n",
       "    </tr>\n",
       "    <tr>\n",
       "      <th>5</th>\n",
       "      <td>15103</td>\n",
       "      <td>https://www.zomato.com/bangalore/patisserie-ni...</td>\n",
       "      <td>12, 2nd Cross, Hutchins Road, Off Davis Road, ...</td>\n",
       "      <td>Patisserie Nitash</td>\n",
       "      <td>No</td>\n",
       "      <td>No</td>\n",
       "      <td>4.2</td>\n",
       "      <td>142</td>\n",
       "      <td>+91 9845427364</td>\n",
       "      <td>Frazer Town</td>\n",
       "      <td>Bakery</td>\n",
       "      <td>Patisserie Nitash, Brownie, Chocolate Cake, Ch...</td>\n",
       "      <td>Bakery</td>\n",
       "      <td>500.0</td>\n",
       "      <td>[('Rated 5.0', \"RATED\\n  What if I told you th...</td>\n",
       "      <td>[]</td>\n",
       "      <td>Delivery</td>\n",
       "      <td>Frazer Town</td>\n",
       "      <td>4.2</td>\n",
       "    </tr>\n",
       "  </tbody>\n",
       "</table>\n",
       "</div>"
      ],
      "text/plain": [
       "   Unnamed: 0                                                url  \\\n",
       "0       14221  https://www.zomato.com/bangalore/shree-ranga-v...   \n",
       "1       43422  https://www.zomato.com/bangalore/sphyre-gatewa...   \n",
       "2       16032  https://www.zomato.com/bangalore/popular-baker...   \n",
       "3       51635  https://www.zomato.com/bangalore/thai-chinese-...   \n",
       "5       15103  https://www.zomato.com/bangalore/patisserie-ni...   \n",
       "\n",
       "                                             address  \\\n",
       "0  366, Hosur Main Road, Attibele, Anekal Taluk, ...   \n",
       "1       Gateway Hotel, 66, Residency Road, Bangalore   \n",
       "2                    19, BDA Complex, HSR, Bangalore   \n",
       "3  7, Anurhh Arcade, Hoodi Road, Kodigehalli Road...   \n",
       "5  12, 2nd Cross, Hutchins Road, Off Davis Road, ...   \n",
       "\n",
       "                       name online_order book_table rate  votes  \\\n",
       "0         Shree Ranga Vilas           No         No  3.2      7   \n",
       "1    Sphyre - Gateway Hotel           No         No  3.6     45   \n",
       "2            Popular Bakery           No         No  3.7     36   \n",
       "3  Thai & Chinese Fast Food           No         No  3.4      7   \n",
       "5         Patisserie Nitash           No         No  4.2    142   \n",
       "\n",
       "                            phone         location               rest_type  \\\n",
       "0                    080 29765044  Electronic City           Casual Dining   \n",
       "1  +91 9886643495\\n+91 9898780004   Residency Road                  Lounge   \n",
       "2  +91 8105834605\\r\\n080 25722488              HSR  Dessert Parlor, Bakery   \n",
       "3  +91 9206260085\\n+91 7619416923         KR Puram             Quick Bites   \n",
       "5                  +91 9845427364      Frazer Town                  Bakery   \n",
       "\n",
       "                                          dish_liked  \\\n",
       "0                                                NaN   \n",
       "1                                                NaN   \n",
       "2                                                NaN   \n",
       "3                                                NaN   \n",
       "5  Patisserie Nitash, Brownie, Chocolate Cake, Ch...   \n",
       "\n",
       "                                      cuisines approx_cost(for two people)  \\\n",
       "0  North Indian, South Indian, Chinese, Juices                       500.0   \n",
       "1                                  Finger Food                      1700.0   \n",
       "2                             Desserts, Bakery                       600.0   \n",
       "3                                Chinese, Thai                       400.0   \n",
       "5                                       Bakery                       500.0   \n",
       "\n",
       "                                        reviews_list menu_item  \\\n",
       "0  [('Rated 3.0', 'RATED\\n  Typical South Indian ...        []   \n",
       "1  [('Rated 1.0', 'RATED\\n  Expected a good night...        []   \n",
       "2  [('Rated 5.0', \"RATED\\n  This outlet is in HSR...        []   \n",
       "3  [('Rated 5.0', 'RATED\\n  Its Looking delicious...        []   \n",
       "5  [('Rated 5.0', \"RATED\\n  What if I told you th...        []   \n",
       "\n",
       "  listed_in(type)  listed_in(city)  rating  \n",
       "0        Dine-out  Electronic City     3.2  \n",
       "1        Dine-out          MG Road     3.6  \n",
       "2        Delivery              HSR     3.7  \n",
       "3        Dine-out       Whitefield     3.4  \n",
       "5        Delivery      Frazer Town     4.2  "
      ]
     },
     "execution_count": 116,
     "metadata": {},
     "output_type": "execute_result"
    }
   ],
   "source": [
    "df.head()"
   ]
  },
  {
   "cell_type": "markdown",
   "metadata": {},
   "source": [
    "### 10. Find the maximum, minimum and average \"approx_cost(for two people)\" in each  \"listed_in(city)\" for each \"listed_in(type)\"\n"
   ]
  },
  {
   "cell_type": "code",
   "execution_count": 117,
   "metadata": {},
   "outputs": [],
   "source": [
    "desc_stats = df.groupby(['listed_in(city)', 'listed_in(type)'])['approx_cost(for two people)'].agg(['max', 'min', 'mean']).reset_index()\n",
    "\n",
    "# Rename columns for better readability\n",
    "desc_stats.columns = ['City', 'Type', 'Max_Cost', 'Min_Cost', 'Average_Cost']\n"
   ]
  },
  {
   "cell_type": "code",
   "execution_count": 118,
   "metadata": {},
   "outputs": [
    {
     "data": {
      "text/html": [
       "<div>\n",
       "<style scoped>\n",
       "    .dataframe tbody tr th:only-of-type {\n",
       "        vertical-align: middle;\n",
       "    }\n",
       "\n",
       "    .dataframe tbody tr th {\n",
       "        vertical-align: top;\n",
       "    }\n",
       "\n",
       "    .dataframe thead th {\n",
       "        text-align: right;\n",
       "    }\n",
       "</style>\n",
       "<table border=\"1\" class=\"dataframe\">\n",
       "  <thead>\n",
       "    <tr style=\"text-align: right;\">\n",
       "      <th></th>\n",
       "      <th>City</th>\n",
       "      <th>Type</th>\n",
       "      <th>Max_Cost</th>\n",
       "      <th>Min_Cost</th>\n",
       "      <th>Average_Cost</th>\n",
       "    </tr>\n",
       "  </thead>\n",
       "  <tbody>\n",
       "    <tr>\n",
       "      <th>0</th>\n",
       "      <td>BTM</td>\n",
       "      <td>Buffet</td>\n",
       "      <td>1600.0</td>\n",
       "      <td>750.0</td>\n",
       "      <td>1264.285714</td>\n",
       "    </tr>\n",
       "    <tr>\n",
       "      <th>1</th>\n",
       "      <td>BTM</td>\n",
       "      <td>Cafes</td>\n",
       "      <td>900.0</td>\n",
       "      <td>300.0</td>\n",
       "      <td>607.692308</td>\n",
       "    </tr>\n",
       "    <tr>\n",
       "      <th>2</th>\n",
       "      <td>BTM</td>\n",
       "      <td>Delivery</td>\n",
       "      <td>1600.0</td>\n",
       "      <td>100.0</td>\n",
       "      <td>463.764706</td>\n",
       "    </tr>\n",
       "    <tr>\n",
       "      <th>3</th>\n",
       "      <td>BTM</td>\n",
       "      <td>Desserts</td>\n",
       "      <td>1200.0</td>\n",
       "      <td>100.0</td>\n",
       "      <td>413.793103</td>\n",
       "    </tr>\n",
       "    <tr>\n",
       "      <th>4</th>\n",
       "      <td>BTM</td>\n",
       "      <td>Dine-out</td>\n",
       "      <td>1500.0</td>\n",
       "      <td>70.0</td>\n",
       "      <td>513.192771</td>\n",
       "    </tr>\n",
       "  </tbody>\n",
       "</table>\n",
       "</div>"
      ],
      "text/plain": [
       "  City      Type Max_Cost Min_Cost Average_Cost\n",
       "0  BTM    Buffet   1600.0    750.0  1264.285714\n",
       "1  BTM     Cafes    900.0    300.0   607.692308\n",
       "2  BTM  Delivery   1600.0    100.0   463.764706\n",
       "3  BTM  Desserts   1200.0    100.0   413.793103\n",
       "4  BTM  Dine-out   1500.0     70.0   513.192771"
      ]
     },
     "execution_count": 118,
     "metadata": {},
     "output_type": "execute_result"
    }
   ],
   "source": [
    "desc_stats.head()"
   ]
  },
  {
   "cell_type": "markdown",
   "metadata": {
    "id": "4mIYtenI5t1t"
   },
   "source": [
    "### 11. Which are the most common restaurant type in Banglore (top 15)?"
   ]
  },
  {
   "cell_type": "code",
   "execution_count": 119,
   "metadata": {
    "colab": {
     "base_uri": "https://localhost:8080/",
     "height": 551
    },
    "id": "0WSILBal44Vu",
    "outputId": "db282dfc-130b-44da-9203-a2a7eb21ea43"
   },
   "outputs": [
    {
     "name": "stdout",
     "output_type": "stream",
     "text": [
      "listed_in(type)\n",
      "Delivery              4067\n",
      "Dine-out              2684\n",
      "Desserts               543\n",
      "Cafes                  280\n",
      "Drinks & nightlife     202\n",
      "Buffet                 163\n",
      "Pubs and bars          131\n",
      "Name: count, dtype: int64\n"
     ]
    }
   ],
   "source": [
    "type_counts = df['listed_in(type)'].value_counts()\n",
    "\n",
    "top_15_types = type_counts.head(15)\n",
    "\n",
    "print(top_15_types)"
   ]
  },
  {
   "cell_type": "markdown",
   "metadata": {
    "id": "7JbOUDa8IO-W"
   },
   "source": [
    "### 12. Finding Best budget Restaurants in any given location. Create a function return_budget_resturant, the arguments to this function will be location and rest_type.The function should return a budget resturants in the given loaction. The price of a good budget resturant should be less than 400 and rating should be more than 4."
   ]
  },
  {
   "cell_type": "raw",
   "metadata": {},
   "source": [
    "input - return_budget_resturant('HSR',\"Quick Bites\")\n",
    "output - ['Asha Tiffins', 'Hotel Salam', 'The Mylapore Cafe']"
   ]
  },
  {
   "cell_type": "code",
   "execution_count": 120,
   "metadata": {
    "id": "p4r1A8htH3Nd"
   },
   "outputs": [
    {
     "name": "stdout",
     "output_type": "stream",
     "text": [
      "['Asha Tiffins', 'The Mylapore Cafe', 'The Mylapore Cafe', 'The Mylapore Cafe', 'The Mylapore Cafe', 'Asha Tiffins', 'Asha Tiffins', 'The Mylapore Cafe', 'Asha Tiffins', 'Asha Tiffins']\n"
     ]
    }
   ],
   "source": [
    "def return_budget_restaurant(location, rest_type):\n",
    "   \n",
    " \n",
    "    # Filter data for the given location and restaurant type\n",
    "    filtered_df = df[(df['location'] == location) & \n",
    "                     (df['rest_type'] == rest_type)]\n",
    "    \n",
    "    if filtered_df.empty:\n",
    "        return \"No data found for the specified location and type.\"\n",
    "\n",
    "    # Filter for budget restaurants with cost < 400 and rating > 4\n",
    "    budget_restaurants = filtered_df[\n",
    "        (filtered_df['approx_cost(for two people)'] < 400) & \n",
    "        (filtered_df['rate'] > 4)\n",
    "    ]\n",
    "    \n",
    "    if budget_restaurants.empty:\n",
    "        return \"No budget restaurants found with the specified criteria.\"\n",
    "    \n",
    "    # Return the names of these restaurants\n",
    "    return budget_restaurants['name'].tolist()\n",
    "\n",
    "# Example usage\n",
    "result = return_budget_restaurant('HSR', 'Quick Bites')\n",
    "print(result)"
   ]
  },
  {
   "cell_type": "code",
   "execution_count": 121,
   "metadata": {
    "id": "zwayAvk_IlIX"
   },
   "outputs": [
    {
     "data": {
      "text/html": [
       "<div>\n",
       "<style scoped>\n",
       "    .dataframe tbody tr th:only-of-type {\n",
       "        vertical-align: middle;\n",
       "    }\n",
       "\n",
       "    .dataframe tbody tr th {\n",
       "        vertical-align: top;\n",
       "    }\n",
       "\n",
       "    .dataframe thead th {\n",
       "        text-align: right;\n",
       "    }\n",
       "</style>\n",
       "<table border=\"1\" class=\"dataframe\">\n",
       "  <thead>\n",
       "    <tr style=\"text-align: right;\">\n",
       "      <th></th>\n",
       "      <th>Unnamed: 0</th>\n",
       "      <th>url</th>\n",
       "      <th>address</th>\n",
       "      <th>name</th>\n",
       "      <th>online_order</th>\n",
       "      <th>book_table</th>\n",
       "      <th>rate</th>\n",
       "      <th>votes</th>\n",
       "      <th>phone</th>\n",
       "      <th>location</th>\n",
       "      <th>rest_type</th>\n",
       "      <th>dish_liked</th>\n",
       "      <th>cuisines</th>\n",
       "      <th>approx_cost(for two people)</th>\n",
       "      <th>reviews_list</th>\n",
       "      <th>menu_item</th>\n",
       "      <th>listed_in(type)</th>\n",
       "      <th>listed_in(city)</th>\n",
       "      <th>rating</th>\n",
       "    </tr>\n",
       "  </thead>\n",
       "  <tbody>\n",
       "    <tr>\n",
       "      <th>0</th>\n",
       "      <td>14221</td>\n",
       "      <td>https://www.zomato.com/bangalore/shree-ranga-v...</td>\n",
       "      <td>366, Hosur Main Road, Attibele, Anekal Taluk, ...</td>\n",
       "      <td>Shree Ranga Vilas</td>\n",
       "      <td>No</td>\n",
       "      <td>No</td>\n",
       "      <td>3.2</td>\n",
       "      <td>7</td>\n",
       "      <td>080 29765044</td>\n",
       "      <td>Electronic City</td>\n",
       "      <td>Casual Dining</td>\n",
       "      <td>NaN</td>\n",
       "      <td>North Indian, South Indian, Chinese, Juices</td>\n",
       "      <td>500.0</td>\n",
       "      <td>[('Rated 3.0', 'RATED\\n  Typical South Indian ...</td>\n",
       "      <td>[]</td>\n",
       "      <td>Dine-out</td>\n",
       "      <td>Electronic City</td>\n",
       "      <td>3.2</td>\n",
       "    </tr>\n",
       "    <tr>\n",
       "      <th>1</th>\n",
       "      <td>43422</td>\n",
       "      <td>https://www.zomato.com/bangalore/sphyre-gatewa...</td>\n",
       "      <td>Gateway Hotel, 66, Residency Road, Bangalore</td>\n",
       "      <td>Sphyre - Gateway Hotel</td>\n",
       "      <td>No</td>\n",
       "      <td>No</td>\n",
       "      <td>3.6</td>\n",
       "      <td>45</td>\n",
       "      <td>+91 9886643495\\n+91 9898780004</td>\n",
       "      <td>Residency Road</td>\n",
       "      <td>Lounge</td>\n",
       "      <td>NaN</td>\n",
       "      <td>Finger Food</td>\n",
       "      <td>1700.0</td>\n",
       "      <td>[('Rated 1.0', 'RATED\\n  Expected a good night...</td>\n",
       "      <td>[]</td>\n",
       "      <td>Dine-out</td>\n",
       "      <td>MG Road</td>\n",
       "      <td>3.6</td>\n",
       "    </tr>\n",
       "    <tr>\n",
       "      <th>2</th>\n",
       "      <td>16032</td>\n",
       "      <td>https://www.zomato.com/bangalore/popular-baker...</td>\n",
       "      <td>19, BDA Complex, HSR, Bangalore</td>\n",
       "      <td>Popular Bakery</td>\n",
       "      <td>No</td>\n",
       "      <td>No</td>\n",
       "      <td>3.7</td>\n",
       "      <td>36</td>\n",
       "      <td>+91 8105834605\\r\\n080 25722488</td>\n",
       "      <td>HSR</td>\n",
       "      <td>Dessert Parlor, Bakery</td>\n",
       "      <td>NaN</td>\n",
       "      <td>Desserts, Bakery</td>\n",
       "      <td>600.0</td>\n",
       "      <td>[('Rated 5.0', \"RATED\\n  This outlet is in HSR...</td>\n",
       "      <td>[]</td>\n",
       "      <td>Delivery</td>\n",
       "      <td>HSR</td>\n",
       "      <td>3.7</td>\n",
       "    </tr>\n",
       "    <tr>\n",
       "      <th>3</th>\n",
       "      <td>51635</td>\n",
       "      <td>https://www.zomato.com/bangalore/thai-chinese-...</td>\n",
       "      <td>7, Anurhh Arcade, Hoodi Road, Kodigehalli Road...</td>\n",
       "      <td>Thai &amp; Chinese Fast Food</td>\n",
       "      <td>No</td>\n",
       "      <td>No</td>\n",
       "      <td>3.4</td>\n",
       "      <td>7</td>\n",
       "      <td>+91 9206260085\\n+91 7619416923</td>\n",
       "      <td>KR Puram</td>\n",
       "      <td>Quick Bites</td>\n",
       "      <td>NaN</td>\n",
       "      <td>Chinese, Thai</td>\n",
       "      <td>400.0</td>\n",
       "      <td>[('Rated 5.0', 'RATED\\n  Its Looking delicious...</td>\n",
       "      <td>[]</td>\n",
       "      <td>Dine-out</td>\n",
       "      <td>Whitefield</td>\n",
       "      <td>3.4</td>\n",
       "    </tr>\n",
       "    <tr>\n",
       "      <th>5</th>\n",
       "      <td>15103</td>\n",
       "      <td>https://www.zomato.com/bangalore/patisserie-ni...</td>\n",
       "      <td>12, 2nd Cross, Hutchins Road, Off Davis Road, ...</td>\n",
       "      <td>Patisserie Nitash</td>\n",
       "      <td>No</td>\n",
       "      <td>No</td>\n",
       "      <td>4.2</td>\n",
       "      <td>142</td>\n",
       "      <td>+91 9845427364</td>\n",
       "      <td>Frazer Town</td>\n",
       "      <td>Bakery</td>\n",
       "      <td>Patisserie Nitash, Brownie, Chocolate Cake, Ch...</td>\n",
       "      <td>Bakery</td>\n",
       "      <td>500.0</td>\n",
       "      <td>[('Rated 5.0', \"RATED\\n  What if I told you th...</td>\n",
       "      <td>[]</td>\n",
       "      <td>Delivery</td>\n",
       "      <td>Frazer Town</td>\n",
       "      <td>4.2</td>\n",
       "    </tr>\n",
       "  </tbody>\n",
       "</table>\n",
       "</div>"
      ],
      "text/plain": [
       "   Unnamed: 0                                                url  \\\n",
       "0       14221  https://www.zomato.com/bangalore/shree-ranga-v...   \n",
       "1       43422  https://www.zomato.com/bangalore/sphyre-gatewa...   \n",
       "2       16032  https://www.zomato.com/bangalore/popular-baker...   \n",
       "3       51635  https://www.zomato.com/bangalore/thai-chinese-...   \n",
       "5       15103  https://www.zomato.com/bangalore/patisserie-ni...   \n",
       "\n",
       "                                             address  \\\n",
       "0  366, Hosur Main Road, Attibele, Anekal Taluk, ...   \n",
       "1       Gateway Hotel, 66, Residency Road, Bangalore   \n",
       "2                    19, BDA Complex, HSR, Bangalore   \n",
       "3  7, Anurhh Arcade, Hoodi Road, Kodigehalli Road...   \n",
       "5  12, 2nd Cross, Hutchins Road, Off Davis Road, ...   \n",
       "\n",
       "                       name online_order book_table rate  votes  \\\n",
       "0         Shree Ranga Vilas           No         No  3.2      7   \n",
       "1    Sphyre - Gateway Hotel           No         No  3.6     45   \n",
       "2            Popular Bakery           No         No  3.7     36   \n",
       "3  Thai & Chinese Fast Food           No         No  3.4      7   \n",
       "5         Patisserie Nitash           No         No  4.2    142   \n",
       "\n",
       "                            phone         location               rest_type  \\\n",
       "0                    080 29765044  Electronic City           Casual Dining   \n",
       "1  +91 9886643495\\n+91 9898780004   Residency Road                  Lounge   \n",
       "2  +91 8105834605\\r\\n080 25722488              HSR  Dessert Parlor, Bakery   \n",
       "3  +91 9206260085\\n+91 7619416923         KR Puram             Quick Bites   \n",
       "5                  +91 9845427364      Frazer Town                  Bakery   \n",
       "\n",
       "                                          dish_liked  \\\n",
       "0                                                NaN   \n",
       "1                                                NaN   \n",
       "2                                                NaN   \n",
       "3                                                NaN   \n",
       "5  Patisserie Nitash, Brownie, Chocolate Cake, Ch...   \n",
       "\n",
       "                                      cuisines approx_cost(for two people)  \\\n",
       "0  North Indian, South Indian, Chinese, Juices                       500.0   \n",
       "1                                  Finger Food                      1700.0   \n",
       "2                             Desserts, Bakery                       600.0   \n",
       "3                                Chinese, Thai                       400.0   \n",
       "5                                       Bakery                       500.0   \n",
       "\n",
       "                                        reviews_list menu_item  \\\n",
       "0  [('Rated 3.0', 'RATED\\n  Typical South Indian ...        []   \n",
       "1  [('Rated 1.0', 'RATED\\n  Expected a good night...        []   \n",
       "2  [('Rated 5.0', \"RATED\\n  This outlet is in HSR...        []   \n",
       "3  [('Rated 5.0', 'RATED\\n  Its Looking delicious...        []   \n",
       "5  [('Rated 5.0', \"RATED\\n  What if I told you th...        []   \n",
       "\n",
       "  listed_in(type)  listed_in(city)  rating  \n",
       "0        Dine-out  Electronic City     3.2  \n",
       "1        Dine-out          MG Road     3.6  \n",
       "2        Delivery              HSR     3.7  \n",
       "3        Dine-out       Whitefield     3.4  \n",
       "5        Delivery      Frazer Town     4.2  "
      ]
     },
     "execution_count": 121,
     "metadata": {},
     "output_type": "execute_result"
    }
   ],
   "source": [
    "df.head()"
   ]
  },
  {
   "cell_type": "code",
   "execution_count": null,
   "metadata": {
    "colab": {
     "base_uri": "https://localhost:8080/"
    },
    "id": "jVNDPLzbI-zi",
    "outputId": "ad3b5882-0cac-4811-b81d-8f96cc031f60"
   },
   "outputs": [],
   "source": []
  },
  {
   "cell_type": "markdown",
   "metadata": {
    "id": "PKK0q6kkJZKM"
   },
   "source": [
    "### 13.Which are the most common cuisines in each locations."
   ]
  },
  {
   "cell_type": "code",
   "execution_count": 122,
   "metadata": {
    "id": "bzSImHvZJNL6"
   },
   "outputs": [
    {
     "name": "stdout",
     "output_type": "stream",
     "text": [
      "               location      cuisines  count\n",
      "38                  BTM  North Indian    368\n",
      "75         Banashankari  North Indian     51\n",
      "94            Banaswadi       Chinese     35\n",
      "144   Bannerghatta Road  North Indian    106\n",
      "176        Basavanagudi  North Indian     34\n",
      "...                 ...           ...    ...\n",
      "2078     West Bangalore      American      1\n",
      "2120         Whitefield  North Indian    143\n",
      "2146      Wilson Garden  North Indian     28\n",
      "2149          Yelahanka       Biryani      1\n",
      "2166        Yeshwantpur  North Indian     16\n",
      "\n",
      "[87 rows x 3 columns]\n"
     ]
    }
   ],
   "source": [
    "df['cuisines'] = df['cuisines'].str.split(',\\s*')\n",
    "\n",
    "# Explode the 'cuisines' column to handle multiple cuisines per row\n",
    "exploded_df = df.explode('cuisines')\n",
    "\n",
    "# Group by location and cuisine, and count occurrences\n",
    "cuisine_counts = exploded_df.groupby(['location', 'cuisines']).size().reset_index(name='count')\n",
    "\n",
    "# Find the most common cuisines for each location\n",
    "most_common_cuisines = cuisine_counts.loc[cuisine_counts.groupby('location')['count'].idxmax()]\n",
    "\n",
    "print(most_common_cuisines)"
   ]
  },
  {
   "cell_type": "code",
   "execution_count": 123,
   "metadata": {
    "colab": {
     "base_uri": "https://localhost:8080/",
     "height": 363
    },
    "id": "fshMMRj-Jk7o",
    "outputId": "adb128eb-bf5a-4b1c-b8fd-295ef41b1926"
   },
   "outputs": [
    {
     "data": {
      "text/html": [
       "<div>\n",
       "<style scoped>\n",
       "    .dataframe tbody tr th:only-of-type {\n",
       "        vertical-align: middle;\n",
       "    }\n",
       "\n",
       "    .dataframe tbody tr th {\n",
       "        vertical-align: top;\n",
       "    }\n",
       "\n",
       "    .dataframe thead th {\n",
       "        text-align: right;\n",
       "    }\n",
       "</style>\n",
       "<table border=\"1\" class=\"dataframe\">\n",
       "  <thead>\n",
       "    <tr style=\"text-align: right;\">\n",
       "      <th></th>\n",
       "      <th>location</th>\n",
       "      <th>cuisines</th>\n",
       "      <th>count</th>\n",
       "    </tr>\n",
       "  </thead>\n",
       "  <tbody>\n",
       "    <tr>\n",
       "      <th>38</th>\n",
       "      <td>BTM</td>\n",
       "      <td>North Indian</td>\n",
       "      <td>368</td>\n",
       "    </tr>\n",
       "    <tr>\n",
       "      <th>75</th>\n",
       "      <td>Banashankari</td>\n",
       "      <td>North Indian</td>\n",
       "      <td>51</td>\n",
       "    </tr>\n",
       "    <tr>\n",
       "      <th>94</th>\n",
       "      <td>Banaswadi</td>\n",
       "      <td>Chinese</td>\n",
       "      <td>35</td>\n",
       "    </tr>\n",
       "    <tr>\n",
       "      <th>144</th>\n",
       "      <td>Bannerghatta Road</td>\n",
       "      <td>North Indian</td>\n",
       "      <td>106</td>\n",
       "    </tr>\n",
       "    <tr>\n",
       "      <th>176</th>\n",
       "      <td>Basavanagudi</td>\n",
       "      <td>North Indian</td>\n",
       "      <td>34</td>\n",
       "    </tr>\n",
       "  </tbody>\n",
       "</table>\n",
       "</div>"
      ],
      "text/plain": [
       "              location      cuisines  count\n",
       "38                 BTM  North Indian    368\n",
       "75        Banashankari  North Indian     51\n",
       "94           Banaswadi       Chinese     35\n",
       "144  Bannerghatta Road  North Indian    106\n",
       "176       Basavanagudi  North Indian     34"
      ]
     },
     "execution_count": 123,
     "metadata": {},
     "output_type": "execute_result"
    }
   ],
   "source": [
    "most_common_cuisines.head()"
   ]
  },
  {
   "cell_type": "markdown",
   "metadata": {
    "id": "R8Ti0rMCKtSk"
   },
   "source": [
    "### 14. Which is  the most popular cuisine of Bangalore?"
   ]
  },
  {
   "cell_type": "code",
   "execution_count": 124,
   "metadata": {
    "colab": {
     "base_uri": "https://localhost:8080/",
     "height": 569
    },
    "id": "uSVDqlW7Kscx",
    "outputId": "89593dc9-0c69-4eb6-f551-4a8525df39d7"
   },
   "outputs": [
    {
     "name": "stdout",
     "output_type": "stream",
     "text": [
      "The most popular cuisine in Bangalore is 'North Indian' with 3360 occurrences.\n"
     ]
    }
   ],
   "source": [
    "# Count occurrences of each cuisine\n",
    "cuisine_counts = exploded_df['cuisines'].value_counts()\n",
    "\n",
    "# Get the most popular cuisine\n",
    "most_popular_cuisine = cuisine_counts.idxmax()\n",
    "most_popular_cuisine_count = cuisine_counts.max()\n",
    "\n",
    "print(f\"The most popular cuisine in Bangalore is '{most_popular_cuisine}' with {most_popular_cuisine_count} occurrences.\")\n"
   ]
  },
  {
   "cell_type": "code",
   "execution_count": 125,
   "metadata": {},
   "outputs": [
    {
     "data": {
      "text/html": [
       "<div>\n",
       "<style scoped>\n",
       "    .dataframe tbody tr th:only-of-type {\n",
       "        vertical-align: middle;\n",
       "    }\n",
       "\n",
       "    .dataframe tbody tr th {\n",
       "        vertical-align: top;\n",
       "    }\n",
       "\n",
       "    .dataframe thead th {\n",
       "        text-align: right;\n",
       "    }\n",
       "</style>\n",
       "<table border=\"1\" class=\"dataframe\">\n",
       "  <thead>\n",
       "    <tr style=\"text-align: right;\">\n",
       "      <th></th>\n",
       "      <th>Unnamed: 0</th>\n",
       "      <th>url</th>\n",
       "      <th>address</th>\n",
       "      <th>name</th>\n",
       "      <th>online_order</th>\n",
       "      <th>book_table</th>\n",
       "      <th>rate</th>\n",
       "      <th>votes</th>\n",
       "      <th>phone</th>\n",
       "      <th>location</th>\n",
       "      <th>rest_type</th>\n",
       "      <th>dish_liked</th>\n",
       "      <th>cuisines</th>\n",
       "      <th>approx_cost(for two people)</th>\n",
       "      <th>reviews_list</th>\n",
       "      <th>menu_item</th>\n",
       "      <th>listed_in(type)</th>\n",
       "      <th>listed_in(city)</th>\n",
       "      <th>rating</th>\n",
       "    </tr>\n",
       "  </thead>\n",
       "  <tbody>\n",
       "    <tr>\n",
       "      <th>0</th>\n",
       "      <td>14221</td>\n",
       "      <td>https://www.zomato.com/bangalore/shree-ranga-v...</td>\n",
       "      <td>366, Hosur Main Road, Attibele, Anekal Taluk, ...</td>\n",
       "      <td>Shree Ranga Vilas</td>\n",
       "      <td>No</td>\n",
       "      <td>No</td>\n",
       "      <td>3.2</td>\n",
       "      <td>7</td>\n",
       "      <td>080 29765044</td>\n",
       "      <td>Electronic City</td>\n",
       "      <td>Casual Dining</td>\n",
       "      <td>NaN</td>\n",
       "      <td>[North Indian, South Indian, Chinese, Juices]</td>\n",
       "      <td>500.0</td>\n",
       "      <td>[('Rated 3.0', 'RATED\\n  Typical South Indian ...</td>\n",
       "      <td>[]</td>\n",
       "      <td>Dine-out</td>\n",
       "      <td>Electronic City</td>\n",
       "      <td>3.2</td>\n",
       "    </tr>\n",
       "    <tr>\n",
       "      <th>1</th>\n",
       "      <td>43422</td>\n",
       "      <td>https://www.zomato.com/bangalore/sphyre-gatewa...</td>\n",
       "      <td>Gateway Hotel, 66, Residency Road, Bangalore</td>\n",
       "      <td>Sphyre - Gateway Hotel</td>\n",
       "      <td>No</td>\n",
       "      <td>No</td>\n",
       "      <td>3.6</td>\n",
       "      <td>45</td>\n",
       "      <td>+91 9886643495\\n+91 9898780004</td>\n",
       "      <td>Residency Road</td>\n",
       "      <td>Lounge</td>\n",
       "      <td>NaN</td>\n",
       "      <td>[Finger Food]</td>\n",
       "      <td>1700.0</td>\n",
       "      <td>[('Rated 1.0', 'RATED\\n  Expected a good night...</td>\n",
       "      <td>[]</td>\n",
       "      <td>Dine-out</td>\n",
       "      <td>MG Road</td>\n",
       "      <td>3.6</td>\n",
       "    </tr>\n",
       "    <tr>\n",
       "      <th>2</th>\n",
       "      <td>16032</td>\n",
       "      <td>https://www.zomato.com/bangalore/popular-baker...</td>\n",
       "      <td>19, BDA Complex, HSR, Bangalore</td>\n",
       "      <td>Popular Bakery</td>\n",
       "      <td>No</td>\n",
       "      <td>No</td>\n",
       "      <td>3.7</td>\n",
       "      <td>36</td>\n",
       "      <td>+91 8105834605\\r\\n080 25722488</td>\n",
       "      <td>HSR</td>\n",
       "      <td>Dessert Parlor, Bakery</td>\n",
       "      <td>NaN</td>\n",
       "      <td>[Desserts, Bakery]</td>\n",
       "      <td>600.0</td>\n",
       "      <td>[('Rated 5.0', \"RATED\\n  This outlet is in HSR...</td>\n",
       "      <td>[]</td>\n",
       "      <td>Delivery</td>\n",
       "      <td>HSR</td>\n",
       "      <td>3.7</td>\n",
       "    </tr>\n",
       "    <tr>\n",
       "      <th>3</th>\n",
       "      <td>51635</td>\n",
       "      <td>https://www.zomato.com/bangalore/thai-chinese-...</td>\n",
       "      <td>7, Anurhh Arcade, Hoodi Road, Kodigehalli Road...</td>\n",
       "      <td>Thai &amp; Chinese Fast Food</td>\n",
       "      <td>No</td>\n",
       "      <td>No</td>\n",
       "      <td>3.4</td>\n",
       "      <td>7</td>\n",
       "      <td>+91 9206260085\\n+91 7619416923</td>\n",
       "      <td>KR Puram</td>\n",
       "      <td>Quick Bites</td>\n",
       "      <td>NaN</td>\n",
       "      <td>[Chinese, Thai]</td>\n",
       "      <td>400.0</td>\n",
       "      <td>[('Rated 5.0', 'RATED\\n  Its Looking delicious...</td>\n",
       "      <td>[]</td>\n",
       "      <td>Dine-out</td>\n",
       "      <td>Whitefield</td>\n",
       "      <td>3.4</td>\n",
       "    </tr>\n",
       "    <tr>\n",
       "      <th>5</th>\n",
       "      <td>15103</td>\n",
       "      <td>https://www.zomato.com/bangalore/patisserie-ni...</td>\n",
       "      <td>12, 2nd Cross, Hutchins Road, Off Davis Road, ...</td>\n",
       "      <td>Patisserie Nitash</td>\n",
       "      <td>No</td>\n",
       "      <td>No</td>\n",
       "      <td>4.2</td>\n",
       "      <td>142</td>\n",
       "      <td>+91 9845427364</td>\n",
       "      <td>Frazer Town</td>\n",
       "      <td>Bakery</td>\n",
       "      <td>Patisserie Nitash, Brownie, Chocolate Cake, Ch...</td>\n",
       "      <td>[Bakery]</td>\n",
       "      <td>500.0</td>\n",
       "      <td>[('Rated 5.0', \"RATED\\n  What if I told you th...</td>\n",
       "      <td>[]</td>\n",
       "      <td>Delivery</td>\n",
       "      <td>Frazer Town</td>\n",
       "      <td>4.2</td>\n",
       "    </tr>\n",
       "  </tbody>\n",
       "</table>\n",
       "</div>"
      ],
      "text/plain": [
       "   Unnamed: 0                                                url  \\\n",
       "0       14221  https://www.zomato.com/bangalore/shree-ranga-v...   \n",
       "1       43422  https://www.zomato.com/bangalore/sphyre-gatewa...   \n",
       "2       16032  https://www.zomato.com/bangalore/popular-baker...   \n",
       "3       51635  https://www.zomato.com/bangalore/thai-chinese-...   \n",
       "5       15103  https://www.zomato.com/bangalore/patisserie-ni...   \n",
       "\n",
       "                                             address  \\\n",
       "0  366, Hosur Main Road, Attibele, Anekal Taluk, ...   \n",
       "1       Gateway Hotel, 66, Residency Road, Bangalore   \n",
       "2                    19, BDA Complex, HSR, Bangalore   \n",
       "3  7, Anurhh Arcade, Hoodi Road, Kodigehalli Road...   \n",
       "5  12, 2nd Cross, Hutchins Road, Off Davis Road, ...   \n",
       "\n",
       "                       name online_order book_table rate  votes  \\\n",
       "0         Shree Ranga Vilas           No         No  3.2      7   \n",
       "1    Sphyre - Gateway Hotel           No         No  3.6     45   \n",
       "2            Popular Bakery           No         No  3.7     36   \n",
       "3  Thai & Chinese Fast Food           No         No  3.4      7   \n",
       "5         Patisserie Nitash           No         No  4.2    142   \n",
       "\n",
       "                            phone         location               rest_type  \\\n",
       "0                    080 29765044  Electronic City           Casual Dining   \n",
       "1  +91 9886643495\\n+91 9898780004   Residency Road                  Lounge   \n",
       "2  +91 8105834605\\r\\n080 25722488              HSR  Dessert Parlor, Bakery   \n",
       "3  +91 9206260085\\n+91 7619416923         KR Puram             Quick Bites   \n",
       "5                  +91 9845427364      Frazer Town                  Bakery   \n",
       "\n",
       "                                          dish_liked  \\\n",
       "0                                                NaN   \n",
       "1                                                NaN   \n",
       "2                                                NaN   \n",
       "3                                                NaN   \n",
       "5  Patisserie Nitash, Brownie, Chocolate Cake, Ch...   \n",
       "\n",
       "                                        cuisines approx_cost(for two people)  \\\n",
       "0  [North Indian, South Indian, Chinese, Juices]                       500.0   \n",
       "1                                  [Finger Food]                      1700.0   \n",
       "2                             [Desserts, Bakery]                       600.0   \n",
       "3                                [Chinese, Thai]                       400.0   \n",
       "5                                       [Bakery]                       500.0   \n",
       "\n",
       "                                        reviews_list menu_item  \\\n",
       "0  [('Rated 3.0', 'RATED\\n  Typical South Indian ...        []   \n",
       "1  [('Rated 1.0', 'RATED\\n  Expected a good night...        []   \n",
       "2  [('Rated 5.0', \"RATED\\n  This outlet is in HSR...        []   \n",
       "3  [('Rated 5.0', 'RATED\\n  Its Looking delicious...        []   \n",
       "5  [('Rated 5.0', \"RATED\\n  What if I told you th...        []   \n",
       "\n",
       "  listed_in(type)  listed_in(city)  rating  \n",
       "0        Dine-out  Electronic City     3.2  \n",
       "1        Dine-out          MG Road     3.6  \n",
       "2        Delivery              HSR     3.7  \n",
       "3        Dine-out       Whitefield     3.4  \n",
       "5        Delivery      Frazer Town     4.2  "
      ]
     },
     "execution_count": 125,
     "metadata": {},
     "output_type": "execute_result"
    }
   ],
   "source": [
    "df.head()"
   ]
  }
 ],
 "metadata": {
  "colab": {
   "collapsed_sections": [],
   "name": "Zomato_EDA_sentimental_analysis.ipynb",
   "provenance": []
  },
  "kernelspec": {
   "display_name": "Python 3 (ipykernel)",
   "language": "python",
   "name": "python3"
  },
  "language_info": {
   "codemirror_mode": {
    "name": "ipython",
    "version": 3
   },
   "file_extension": ".py",
   "mimetype": "text/x-python",
   "name": "python",
   "nbconvert_exporter": "python",
   "pygments_lexer": "ipython3",
   "version": "3.11.7"
  }
 },
 "nbformat": 4,
 "nbformat_minor": 1
}
